{
 "cells": [
  {
   "cell_type": "code",
   "execution_count": null,
   "metadata": {},
   "outputs": [],
   "source": [
    "from matplotlib import pyplot\n",
    "import pandas as pd\n",
    "pyplot.rcParams[\"figure.figsize\"] = (20,4)"
   ]
  },
  {
   "cell_type": "code",
   "execution_count": null,
   "metadata": {},
   "outputs": [],
   "source": [
    "BAND_DATA_PATH = \"./build/juce_fft_equalizer_artefacts/Debug/last_band_data.csv\"\n",
    "FFT_DATA_PATH = \"./build/juce_fft_equalizer_artefacts/Debug/fft_audio_latest.csv\"\n",
    "\n",
    "SHOW_FROM = 0 #Hz\n",
    "SHOW_TO = 600 #Hz"
   ]
  },
  {
   "cell_type": "code",
   "execution_count": null,
   "metadata": {},
   "outputs": [],
   "source": [
    "gains_table = pd.read_csv(BAND_DATA_PATH, header=0, comment='#')[SHOW_FROM:SHOW_TO]\n",
    "pyplot.plot(gains_table.frequency, gains_table.gain)"
   ]
  },
  {
   "cell_type": "code",
   "execution_count": null,
   "metadata": {},
   "outputs": [],
   "source": [
    "\n",
    "audio_table = pd.read_csv(FFT_DATA_PATH, header=0, comment='#')\n",
    "with open(FFT_DATA_PATH, 'r') as f:\n",
    "    metadata = f.readlines()[0][1:-1].split(',')\n",
    "    sample_rate = int(metadata[0].split('=')[1])\n",
    "    fft_size = int(metadata[1].split('=')[1])\n",
    "    print(\"Sample rate:\", sample_rate, \"Hz\")\n",
    "    print(\"FFT block size:\", fft_size)\n",
    "audio_table = audio_table.loc[audio_table.frequency <= SHOW_TO].loc[audio_table.frequency >= SHOW_FROM]\n",
    "pyplot.plot(audio_table.frequency, audio_table.magnitude)"
   ]
  }
 ],
 "metadata": {
  "kernelspec": {
   "display_name": "base",
   "language": "python",
   "name": "python3"
  },
  "language_info": {
   "codemirror_mode": {
    "name": "ipython",
    "version": 3
   },
   "file_extension": ".py",
   "mimetype": "text/x-python",
   "name": "python",
   "nbconvert_exporter": "python",
   "pygments_lexer": "ipython3",
   "version": "3.9.13"
  },
  "orig_nbformat": 4,
  "vscode": {
   "interpreter": {
    "hash": "141d3513d22a59c12874a17ac437a8bd79a6ce70a3f42af29354d346c8dec2cd"
   }
  }
 },
 "nbformat": 4,
 "nbformat_minor": 2
}
